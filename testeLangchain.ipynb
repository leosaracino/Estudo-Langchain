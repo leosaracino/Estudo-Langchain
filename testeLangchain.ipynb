{
 "cells": [
  {
   "cell_type": "code",
   "execution_count": 1,
   "metadata": {},
   "outputs": [],
   "source": [
    "# !pip install langchain\n",
    "import langchain"
   ]
  },
  {
   "cell_type": "code",
   "execution_count": 2,
   "metadata": {},
   "outputs": [],
   "source": [
    "from langchain_openai import ChatOpenAI"
   ]
  },
  {
   "cell_type": "code",
   "execution_count": 3,
   "metadata": {},
   "outputs": [],
   "source": [
    "import os\n",
    "os.environ[\"OPENAI_API_KEY\"] = \"\""
   ]
  },
  {
   "cell_type": "code",
   "execution_count": 4,
   "metadata": {},
   "outputs": [],
   "source": [
    "# Get the prompt to use - you can modify this!\n",
    "#prompt = hub.pull(\"hwchase17/openai-functions-agent\")\n",
    "llm = ChatOpenAI(model=\"gpt-3.5-turbo\", temperature=0)\n",
    "\n"
   ]
  },
  {
   "cell_type": "code",
   "execution_count": 5,
   "metadata": {},
   "outputs": [
    {
     "data": {
      "text/plain": [
       "AIMessage(content='Hello! How can I assist you today?', response_metadata={'token_usage': {'completion_tokens': 9, 'prompt_tokens': 7, 'total_tokens': 16}, 'model_name': 'gpt-3.5-turbo', 'system_fingerprint': None, 'finish_reason': 'stop', 'logprobs': None}, id='run-bc4ac845-d57f-43ba-a90a-9e56a1ca35e3-0')"
      ]
     },
     "execution_count": 5,
     "metadata": {},
     "output_type": "execute_result"
    }
   ],
   "source": [
    "llm.invoke(\"\")"
   ]
  },
  {
   "cell_type": "code",
   "execution_count": 6,
   "metadata": {},
   "outputs": [],
   "source": [
    "from langchain_core.prompts import ChatPromptTemplate\n",
    "\n",
    "prompt = ChatPromptTemplate.from_messages([\n",
    "    (\"system\", \"You are a customer service representative who is answering customer inquiries. Your task is to provide information and answer questions about the product.\"),\n",
    "    (\"user\", \"Please provide an overview of the new feature, including its purpose and key functionalities.\"),\n",
    "    (\"system\", \"{input}\"), \n",
    "])"
   ]
  },
  {
   "cell_type": "code",
   "execution_count": 7,
   "metadata": {},
   "outputs": [],
   "source": [
    "chain = prompt | llm\n"
   ]
  },
  {
   "cell_type": "code",
   "execution_count": 8,
   "metadata": {},
   "outputs": [
    {
     "data": {
      "text/plain": [
       "AIMessage(content=\"Langsmith is a powerful language testing tool that can assist in evaluating language proficiency and skills. It offers a range of features designed to streamline the testing process and provide accurate assessments. Some key functionalities of Langsmith include:\\n\\n1. Automated Language Assessment: Langsmith uses advanced algorithms to automatically evaluate language skills, including grammar, vocabulary, and comprehension.\\n\\n2. Customizable Tests: Users can create customized tests tailored to specific language proficiency levels or areas of focus, such as reading, writing, listening, or speaking.\\n\\n3. Detailed Reports: Langsmith generates detailed reports that provide insights into test performance, strengths, and areas for improvement. This information can help users track progress and make informed decisions.\\n\\n4. Adaptive Testing: The tool adapts to the test-taker's responses, adjusting the difficulty level based on performance to provide a more accurate assessment of language proficiency.\\n\\n5. User-Friendly Interface: Langsmith features an intuitive interface that makes it easy to navigate and use, ensuring a seamless testing experience for both administrators and test-takers.\\n\\nOverall, Langsmith is designed to simplify the language testing process, provide reliable assessments, and support language learning and development.\", response_metadata={'token_usage': {'completion_tokens': 230, 'prompt_tokens': 64, 'total_tokens': 294}, 'model_name': 'gpt-3.5-turbo', 'system_fingerprint': None, 'finish_reason': 'stop', 'logprobs': None}, id='run-ccd1261e-c2bb-4ad7-9c19-ea1ae0339151-0')"
      ]
     },
     "execution_count": 8,
     "metadata": {},
     "output_type": "execute_result"
    }
   ],
   "source": [
    "chain.invoke({\"input\": \"how can langsmith help with testing?\"})"
   ]
  },
  {
   "cell_type": "code",
   "execution_count": null,
   "metadata": {},
   "outputs": [],
   "source": []
  }
 ],
 "metadata": {
  "kernelspec": {
   "display_name": "base",
   "language": "python",
   "name": "python3"
  },
  "language_info": {
   "codemirror_mode": {
    "name": "ipython",
    "version": 3
   },
   "file_extension": ".py",
   "mimetype": "text/x-python",
   "name": "python",
   "nbconvert_exporter": "python",
   "pygments_lexer": "ipython3",
   "version": "3.10.14"
  }
 },
 "nbformat": 4,
 "nbformat_minor": 2
}
